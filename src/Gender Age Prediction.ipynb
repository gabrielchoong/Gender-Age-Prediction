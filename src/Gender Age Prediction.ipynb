{
 "cells": [
  {
   "cell_type": "markdown",
   "id": "dbdb065a",
   "metadata": {},
   "source": [
    "## Introduction  \n",
    "\n",
    "1. Eigen Decomposition\n",
    "2. Singular Value Decomposition\n",
    "3. Linear Regression\n",
    "4. Artificial Neural Network"
   ]
  },
  {
   "cell_type": "markdown",
   "id": "73e2b78e",
   "metadata": {},
   "source": [
    "### Image Conversion"
   ]
  },
  {
   "cell_type": "code",
   "execution_count": 4,
   "id": "5b4a3714",
   "metadata": {},
   "outputs": [
    {
     "ename": "TimeoutError",
     "evalue": "[Errno 60] Operation timed out",
     "output_type": "error",
     "traceback": [
      "\u001b[0;31m---------------------------------------------------------------------------\u001b[0m",
      "\u001b[0;31mTimeoutError\u001b[0m                              Traceback (most recent call last)",
      "Cell \u001b[0;32mIn[4], line 20\u001b[0m\n\u001b[1;32m     16\u001b[0m Genders \u001b[38;5;241m=\u001b[39m []\n\u001b[1;32m     18\u001b[0m \u001b[38;5;28;01mfor\u001b[39;00m k,i \u001b[38;5;129;01min\u001b[39;00m \u001b[38;5;28menumerate\u001b[39m(glob\u001b[38;5;241m.\u001b[39mglob(\u001b[38;5;124mr\u001b[39m\u001b[38;5;124m\"\u001b[39m\u001b[38;5;124m../FaceData/*\u001b[39m\u001b[38;5;124m\"\u001b[39m)):\n\u001b[1;32m     19\u001b[0m     \u001b[38;5;66;03m# Load image\u001b[39;00m\n\u001b[0;32m---> 20\u001b[0m     imagei \u001b[38;5;241m=\u001b[39m \u001b[43mio\u001b[49m\u001b[38;5;241;43m.\u001b[39;49m\u001b[43mimread\u001b[49m\u001b[43m(\u001b[49m\u001b[43mi\u001b[49m\u001b[43m)\u001b[49m\n\u001b[1;32m     22\u001b[0m     Ages\u001b[38;5;241m.\u001b[39mappend(os\u001b[38;5;241m.\u001b[39mpath\u001b[38;5;241m.\u001b[39mbasename(i)\u001b[38;5;241m.\u001b[39msplit(\u001b[38;5;124m\"\u001b[39m\u001b[38;5;124m_\u001b[39m\u001b[38;5;124m\"\u001b[39m)[\u001b[38;5;241m0\u001b[39m])\n\u001b[1;32m     23\u001b[0m     Genders\u001b[38;5;241m.\u001b[39mappend(os\u001b[38;5;241m.\u001b[39mpath\u001b[38;5;241m.\u001b[39mbasename(i)\u001b[38;5;241m.\u001b[39msplit(\u001b[38;5;124m\"\u001b[39m\u001b[38;5;124m_\u001b[39m\u001b[38;5;124m\"\u001b[39m)[\u001b[38;5;241m1\u001b[39m])\n",
      "File \u001b[0;32m~/miniforge3/envs/machine-learning/lib/python3.12/site-packages/skimage/io/_io.py:53\u001b[0m, in \u001b[0;36mimread\u001b[0;34m(fname, as_gray, plugin, **plugin_args)\u001b[0m\n\u001b[1;32m     50\u001b[0m         plugin \u001b[38;5;241m=\u001b[39m \u001b[38;5;124m'\u001b[39m\u001b[38;5;124mtifffile\u001b[39m\u001b[38;5;124m'\u001b[39m\n\u001b[1;32m     52\u001b[0m \u001b[38;5;28;01mwith\u001b[39;00m file_or_url_context(fname) \u001b[38;5;28;01mas\u001b[39;00m fname:\n\u001b[0;32m---> 53\u001b[0m     img \u001b[38;5;241m=\u001b[39m \u001b[43mcall_plugin\u001b[49m\u001b[43m(\u001b[49m\u001b[38;5;124;43m'\u001b[39;49m\u001b[38;5;124;43mimread\u001b[39;49m\u001b[38;5;124;43m'\u001b[39;49m\u001b[43m,\u001b[49m\u001b[43m \u001b[49m\u001b[43mfname\u001b[49m\u001b[43m,\u001b[49m\u001b[43m \u001b[49m\u001b[43mplugin\u001b[49m\u001b[38;5;241;43m=\u001b[39;49m\u001b[43mplugin\u001b[49m\u001b[43m,\u001b[49m\u001b[43m \u001b[49m\u001b[38;5;241;43m*\u001b[39;49m\u001b[38;5;241;43m*\u001b[39;49m\u001b[43mplugin_args\u001b[49m\u001b[43m)\u001b[49m\n\u001b[1;32m     55\u001b[0m \u001b[38;5;28;01mif\u001b[39;00m \u001b[38;5;129;01mnot\u001b[39;00m \u001b[38;5;28mhasattr\u001b[39m(img, \u001b[38;5;124m'\u001b[39m\u001b[38;5;124mndim\u001b[39m\u001b[38;5;124m'\u001b[39m):\n\u001b[1;32m     56\u001b[0m     \u001b[38;5;28;01mreturn\u001b[39;00m img\n",
      "File \u001b[0;32m~/miniforge3/envs/machine-learning/lib/python3.12/site-packages/skimage/io/manage_plugins.py:205\u001b[0m, in \u001b[0;36mcall_plugin\u001b[0;34m(kind, *args, **kwargs)\u001b[0m\n\u001b[1;32m    202\u001b[0m     \u001b[38;5;28;01mexcept\u001b[39;00m \u001b[38;5;167;01mIndexError\u001b[39;00m:\n\u001b[1;32m    203\u001b[0m         \u001b[38;5;28;01mraise\u001b[39;00m \u001b[38;5;167;01mRuntimeError\u001b[39;00m(\u001b[38;5;124mf\u001b[39m\u001b[38;5;124m'\u001b[39m\u001b[38;5;124mCould not find the plugin \u001b[39m\u001b[38;5;124m\"\u001b[39m\u001b[38;5;132;01m{\u001b[39;00mplugin\u001b[38;5;132;01m}\u001b[39;00m\u001b[38;5;124m\"\u001b[39m\u001b[38;5;124m for \u001b[39m\u001b[38;5;132;01m{\u001b[39;00mkind\u001b[38;5;132;01m}\u001b[39;00m\u001b[38;5;124m.\u001b[39m\u001b[38;5;124m'\u001b[39m)\n\u001b[0;32m--> 205\u001b[0m \u001b[38;5;28;01mreturn\u001b[39;00m \u001b[43mfunc\u001b[49m\u001b[43m(\u001b[49m\u001b[38;5;241;43m*\u001b[39;49m\u001b[43margs\u001b[49m\u001b[43m,\u001b[49m\u001b[43m \u001b[49m\u001b[38;5;241;43m*\u001b[39;49m\u001b[38;5;241;43m*\u001b[39;49m\u001b[43mkwargs\u001b[49m\u001b[43m)\u001b[49m\n",
      "File \u001b[0;32m~/miniforge3/envs/machine-learning/lib/python3.12/site-packages/skimage/io/_plugins/imageio_plugin.py:11\u001b[0m, in \u001b[0;36mimread\u001b[0;34m(*args, **kwargs)\u001b[0m\n\u001b[1;32m      9\u001b[0m \u001b[38;5;129m@wraps\u001b[39m(imageio_imread)\n\u001b[1;32m     10\u001b[0m \u001b[38;5;28;01mdef\u001b[39;00m \u001b[38;5;21mimread\u001b[39m(\u001b[38;5;241m*\u001b[39margs, \u001b[38;5;241m*\u001b[39m\u001b[38;5;241m*\u001b[39mkwargs):\n\u001b[0;32m---> 11\u001b[0m     out \u001b[38;5;241m=\u001b[39m np\u001b[38;5;241m.\u001b[39masarray(\u001b[43mimageio_imread\u001b[49m\u001b[43m(\u001b[49m\u001b[38;5;241;43m*\u001b[39;49m\u001b[43margs\u001b[49m\u001b[43m,\u001b[49m\u001b[43m \u001b[49m\u001b[38;5;241;43m*\u001b[39;49m\u001b[38;5;241;43m*\u001b[39;49m\u001b[43mkwargs\u001b[49m\u001b[43m)\u001b[49m)\n\u001b[1;32m     12\u001b[0m     \u001b[38;5;28;01mif\u001b[39;00m \u001b[38;5;129;01mnot\u001b[39;00m out\u001b[38;5;241m.\u001b[39mflags[\u001b[38;5;124m'\u001b[39m\u001b[38;5;124mWRITEABLE\u001b[39m\u001b[38;5;124m'\u001b[39m]:\n\u001b[1;32m     13\u001b[0m         out \u001b[38;5;241m=\u001b[39m out\u001b[38;5;241m.\u001b[39mcopy()\n",
      "File \u001b[0;32m~/miniforge3/envs/machine-learning/lib/python3.12/site-packages/imageio/v3.py:53\u001b[0m, in \u001b[0;36mimread\u001b[0;34m(uri, index, plugin, extension, format_hint, **kwargs)\u001b[0m\n\u001b[1;32m     50\u001b[0m \u001b[38;5;28;01mif\u001b[39;00m index \u001b[38;5;129;01mis\u001b[39;00m \u001b[38;5;129;01mnot\u001b[39;00m \u001b[38;5;28;01mNone\u001b[39;00m:\n\u001b[1;32m     51\u001b[0m     call_kwargs[\u001b[38;5;124m\"\u001b[39m\u001b[38;5;124mindex\u001b[39m\u001b[38;5;124m\"\u001b[39m] \u001b[38;5;241m=\u001b[39m index\n\u001b[0;32m---> 53\u001b[0m \u001b[38;5;28;01mwith\u001b[39;00m \u001b[43mimopen\u001b[49m\u001b[43m(\u001b[49m\u001b[43muri\u001b[49m\u001b[43m,\u001b[49m\u001b[43m \u001b[49m\u001b[38;5;124;43m\"\u001b[39;49m\u001b[38;5;124;43mr\u001b[39;49m\u001b[38;5;124;43m\"\u001b[39;49m\u001b[43m,\u001b[49m\u001b[43m \u001b[49m\u001b[38;5;241;43m*\u001b[39;49m\u001b[38;5;241;43m*\u001b[39;49m\u001b[43mplugin_kwargs\u001b[49m\u001b[43m)\u001b[49m \u001b[38;5;28;01mas\u001b[39;00m img_file:\n\u001b[1;32m     54\u001b[0m     \u001b[38;5;28;01mreturn\u001b[39;00m np\u001b[38;5;241m.\u001b[39masarray(img_file\u001b[38;5;241m.\u001b[39mread(\u001b[38;5;241m*\u001b[39m\u001b[38;5;241m*\u001b[39mcall_kwargs))\n",
      "File \u001b[0;32m~/miniforge3/envs/machine-learning/lib/python3.12/site-packages/imageio/core/imopen.py:196\u001b[0m, in \u001b[0;36mimopen\u001b[0;34m(uri, io_mode, plugin, extension, format_hint, legacy_mode, **kwargs)\u001b[0m\n\u001b[1;32m    193\u001b[0m     \u001b[38;5;28;01mcontinue\u001b[39;00m\n\u001b[1;32m    195\u001b[0m \u001b[38;5;28;01mtry\u001b[39;00m:\n\u001b[0;32m--> 196\u001b[0m     plugin_instance \u001b[38;5;241m=\u001b[39m \u001b[43mcandidate_plugin\u001b[49m\u001b[43m(\u001b[49m\u001b[43mrequest\u001b[49m\u001b[43m,\u001b[49m\u001b[43m \u001b[49m\u001b[38;5;241;43m*\u001b[39;49m\u001b[38;5;241;43m*\u001b[39;49m\u001b[43mkwargs\u001b[49m\u001b[43m)\u001b[49m\n\u001b[1;32m    197\u001b[0m \u001b[38;5;28;01mexcept\u001b[39;00m InitializationError:\n\u001b[1;32m    198\u001b[0m     \u001b[38;5;66;03m# file extension doesn't match file type\u001b[39;00m\n\u001b[1;32m    199\u001b[0m     \u001b[38;5;28;01mcontinue\u001b[39;00m\n",
      "File \u001b[0;32m~/miniforge3/envs/machine-learning/lib/python3.12/site-packages/imageio/plugins/pillow.py:104\u001b[0m, in \u001b[0;36mPillowPlugin.__init__\u001b[0;34m(self, request)\u001b[0m\n\u001b[1;32m    102\u001b[0m \u001b[38;5;28;01mif\u001b[39;00m request\u001b[38;5;241m.\u001b[39mmode\u001b[38;5;241m.\u001b[39mio_mode \u001b[38;5;241m==\u001b[39m IOMode\u001b[38;5;241m.\u001b[39mread:\n\u001b[1;32m    103\u001b[0m     \u001b[38;5;28;01mtry\u001b[39;00m:\n\u001b[0;32m--> 104\u001b[0m         \u001b[38;5;28;01mwith\u001b[39;00m \u001b[43mImage\u001b[49m\u001b[38;5;241;43m.\u001b[39;49m\u001b[43mopen\u001b[49m\u001b[43m(\u001b[49m\u001b[43mrequest\u001b[49m\u001b[38;5;241;43m.\u001b[39;49m\u001b[43mget_file\u001b[49m\u001b[43m(\u001b[49m\u001b[43m)\u001b[49m\u001b[43m)\u001b[49m:\n\u001b[1;32m    105\u001b[0m             \u001b[38;5;66;03m# Check if it is generally possible to read the image.\u001b[39;00m\n\u001b[1;32m    106\u001b[0m             \u001b[38;5;66;03m# This will not read any data and merely try to find a\u001b[39;00m\n\u001b[1;32m    107\u001b[0m             \u001b[38;5;66;03m# compatible pillow plugin (ref: the pillow docs).\u001b[39;00m\n\u001b[1;32m    108\u001b[0m             \u001b[38;5;28;01mpass\u001b[39;00m\n\u001b[1;32m    109\u001b[0m     \u001b[38;5;28;01mexcept\u001b[39;00m UnidentifiedImageError:\n",
      "File \u001b[0;32m~/miniforge3/envs/machine-learning/lib/python3.12/site-packages/PIL/Image.py:3256\u001b[0m, in \u001b[0;36mopen\u001b[0;34m(fp, mode, formats)\u001b[0m\n\u001b[1;32m   3253\u001b[0m     fp \u001b[38;5;241m=\u001b[39m io\u001b[38;5;241m.\u001b[39mBytesIO(fp\u001b[38;5;241m.\u001b[39mread())\n\u001b[1;32m   3254\u001b[0m     exclusive_fp \u001b[38;5;241m=\u001b[39m \u001b[38;5;28;01mTrue\u001b[39;00m\n\u001b[0;32m-> 3256\u001b[0m prefix \u001b[38;5;241m=\u001b[39m \u001b[43mfp\u001b[49m\u001b[38;5;241;43m.\u001b[39;49m\u001b[43mread\u001b[49m\u001b[43m(\u001b[49m\u001b[38;5;241;43m16\u001b[39;49m\u001b[43m)\u001b[49m\n\u001b[1;32m   3258\u001b[0m preinit()\n\u001b[1;32m   3260\u001b[0m accept_warnings \u001b[38;5;241m=\u001b[39m []\n",
      "\u001b[0;31mTimeoutError\u001b[0m: [Errno 60] Operation timed out"
     ]
    }
   ],
   "source": [
    "# importing libraries\n",
    "import glob\n",
    "import os\n",
    "import numpy as np\n",
    "from skimage import io, color, transform\n",
    "import matplotlib.pyplot as plt\n",
    "\n",
    "from sklearn.model_selection import train_test_split\n",
    "from sklearn.metrics import mean_squared_error\n",
    "from sklearn import metrics\n",
    "from sklearn import datasets\n",
    "\n",
    "# Load and preprocess the images\n",
    "Faces = []\n",
    "Ages = []\n",
    "Genders = []\n",
    "\n",
    "for k,i in enumerate(glob.glob(r\"../FaceData/*\")):\n",
    "    # Load image\n",
    "    imagei = io.imread(i)\n",
    "    \n",
    "    Ages.append(os.path.basename(i).split(\"_\")[0])\n",
    "    Genders.append(os.path.basename(i).split(\"_\")[1])\n",
    "\n",
    "    # Convert to grayscale image\n",
    "    imagei_gray = color.rgb2gray(imagei)\n",
    "    \n",
    "    # Resize image\n",
    "    image_rescaled = transform.rescale(imagei_gray, 0.25, anti_aliasing=False)\n",
    "\n",
    "    # Resize image\n",
    "    Faces.append(image_rescaled.flatten())\n",
    "    \n",
    "    # # Visualize ten images\n",
    "    # if(k<10):\n",
    "    #     plt.figure()\n",
    "    #     plt.imshow(image_rescaled, cmap='gray')\n",
    "    #     plt.show()\n",
    "    \n",
    "print(f'Imported {len(Faces)} faces')"
   ]
  },
  {
   "cell_type": "markdown",
   "id": "e2ba49e5",
   "metadata": {},
   "source": [
    "###  Eigenfaces Analysis"
   ]
  },
  {
   "cell_type": "code",
   "execution_count": null,
   "id": "521435c7",
   "metadata": {},
   "outputs": [
    {
     "name": "stdout",
     "output_type": "stream",
     "text": [
      "(0, 2500)\n"
     ]
    },
    {
     "name": "stderr",
     "output_type": "stream",
     "text": [
      "/Users/gabrielchoong/miniforge3/envs/machine-learning/lib/python3.12/site-packages/numpy/lib/function_base.py:520: RuntimeWarning: Mean of empty slice.\n",
      "  avg = a.mean(axis, **keepdims_kw)\n",
      "/Users/gabrielchoong/miniforge3/envs/machine-learning/lib/python3.12/site-packages/numpy/core/_methods.py:121: RuntimeWarning: invalid value encountered in divide\n",
      "  ret = um.true_divide(\n",
      "/var/folders/rj/1x1xfgy10y37sscsvdn68_s40000gn/T/ipykernel_6421/313573112.py:13: RuntimeWarning: Degrees of freedom <= 0 for slice\n",
      "  covariance_matrix = np.cov(X.T)\n",
      "/Users/gabrielchoong/miniforge3/envs/machine-learning/lib/python3.12/site-packages/numpy/lib/function_base.py:2748: RuntimeWarning: divide by zero encountered in divide\n",
      "  c *= np.true_divide(1, fact)\n",
      "/Users/gabrielchoong/miniforge3/envs/machine-learning/lib/python3.12/site-packages/numpy/lib/function_base.py:2748: RuntimeWarning: invalid value encountered in multiply\n",
      "  c *= np.true_divide(1, fact)\n"
     ]
    },
    {
     "data": {
      "image/png": "[encoded data removed]",
      "text/plain": [
       "<Figure size 640x480 with 1 Axes>"
      ]
     },
     "metadata": {},
     "output_type": "display_data"
    },
    {
     "data": {
      "image/png": "[encoded data removed]",
      "text/plain": [
       "<Figure size 640x480 with 1 Axes>"
      ]
     },
     "metadata": {},
     "output_type": "display_data"
    },
    {
     "data": {
      "image/png": "[encoded data removed]",
      "text/plain": [
       "<Figure size 640x480 with 1 Axes>"
      ]
     },
     "metadata": {},
     "output_type": "display_data"
    },
    {
     "data": {
      "image/png": "[encoded data removed]",
      "text/plain": [
       "<Figure size 640x480 with 1 Axes>"
      ]
     },
     "metadata": {},
     "output_type": "display_data"
    },
    {
     "data": {
      "image/png": "[encoded data removed]",
      "text/plain": [
       "<Figure size 640x480 with 1 Axes>"
      ]
     },
     "metadata": {},
     "output_type": "display_data"
    },
    {
     "data": {
      "image/png": "[encoded data removed]",
      "text/plain": [
       "<Figure size 640x480 with 1 Axes>"
      ]
     },
     "metadata": {},
     "output_type": "display_data"
    },
    {
     "data": {
      "image/png": "[encoded data removed]",
      "text/plain": [
       "<Figure size 640x480 with 1 Axes>"
      ]
     },
     "metadata": {},
     "output_type": "display_data"
    },
    {
     "data": {
      "image/png": "[encoded data removed]",
      "text/plain": [
       "<Figure size 640x480 with 1 Axes>"
      ]
     },
     "metadata": {},
     "output_type": "display_data"
    },
    {
     "data": {
      "image/png": "[encoded data removed]",
      "text/plain": [
       "<Figure size 640x480 with 1 Axes>"
      ]
     },
     "metadata": {},
     "output_type": "display_data"
    },
    {
     "data": {
      "image/png": "[encoded data removed]",
      "text/plain": [
       "<Figure size 640x480 with 1 Axes>"
      ]
     },
     "metadata": {},
     "output_type": "display_data"
    }
   ],
   "source": [
    "#Convert to matrix\n",
    "Faces = np.array(Faces)\n",
    "\n",
    "# Reshape the array\n",
    "n_samples = len(Faces)\n",
    "h = w = 50\n",
    "\n",
    "X = Faces.reshape(n_samples, h * w)\n",
    "\n",
    "print(X.shape)\n",
    "\n",
    "# Compute the covariance matrix\n",
    "covariance_matrix = np.cov(X.T)\n",
    "\n",
    "# Perform eigendecomposition on the covariance matrix\n",
    "eigenvalues, eigenvectors = np.linalg.eigh(covariance_matrix)\n",
    "\n",
    "# Sort the eigenvalues and eigenvectors in descending order\n",
    "sorted_indices = np.argsort(eigenvalues)[::-1]\n",
    "eigenvalues = eigenvalues[sorted_indices]\n",
    "eigenvectors = eigenvectors[:, sorted_indices]\n",
    "\n",
    "\n",
    "# Visualize the eigenfaces\n",
    "for i in range(10):\n",
    "    eigenface = eigenvectors[:, i].reshape((h, w))\n",
    "    plt.figure()\n",
    "    plt.imshow(eigenface, cmap='gray')\n",
    "    plt.title(f'Eigenface {i+1}')\n",
    "    plt.show()\n"
   ]
  },
  {
   "cell_type": "code",
   "execution_count": 3,
   "id": "3d630f10",
   "metadata": {},
   "outputs": [
    {
     "data": {
      "image/png": "[encoded data removed]",
      "text/plain": [
       "<Figure size 432x288 with 1 Axes>"
      ]
     },
     "metadata": {
      "needs_background": "light"
     },
     "output_type": "display_data"
    },
    {
     "data": {
      "image/png": "[encoded data removed]",
      "text/plain": [
       "<Figure size 432x288 with 1 Axes>"
      ]
     },
     "metadata": {
      "needs_background": "light"
     },
     "output_type": "display_data"
    },
    {
     "data": {
      "image/png": "[encoded data removed]",
      "text/plain": [
       "<Figure size 432x288 with 1 Axes>"
      ]
     },
     "metadata": {
      "needs_background": "light"
     },
     "output_type": "display_data"
    },
    {
     "data": {
      "image/png": "[encoded data removed]",
      "text/plain": [
       "<Figure size 432x288 with 1 Axes>"
      ]
     },
     "metadata": {
      "needs_background": "light"
     },
     "output_type": "display_data"
    },
    {
     "data": {
      "image/png": "[encoded data removed]",
      "text/plain": [
       "<Figure size 432x288 with 1 Axes>"
      ]
     },
     "metadata": {
      "needs_background": "light"
     },
     "output_type": "display_data"
    },
    {
     "data": {
      "image/png": "[encoded data removed]",
      "text/plain": [
       "<Figure size 432x288 with 1 Axes>"
      ]
     },
     "metadata": {
      "needs_background": "light"
     },
     "output_type": "display_data"
    },
    {
     "data": {
      "image/png": "[encoded data removed]",
      "text/plain": [
       "<Figure size 432x288 with 1 Axes>"
      ]
     },
     "metadata": {
      "needs_background": "light"
     },
     "output_type": "display_data"
    },
    {
     "data": {
      "image/png": "[encoded data removed]",
      "text/plain": [
       "<Figure size 432x288 with 1 Axes>"
      ]
     },
     "metadata": {
      "needs_background": "light"
     },
     "output_type": "display_data"
    },
    {
     "data": {
      "image/png": "[encoded data removed]",
      "text/plain": [
       "<Figure size 432x288 with 1 Axes>"
      ]
     },
     "metadata": {
      "needs_background": "light"
     },
     "output_type": "display_data"
    },
    {
     "data": {
      "image/png": "[encoded data removed]",
      "text/plain": [
       "<Figure size 432x288 with 1 Axes>"
      ]
     },
     "metadata": {
      "needs_background": "light"
     },
     "output_type": "display_data"
    }
   ],
   "source": [
    "# Perform Singular Value Decomposition (SVD)\n",
    "U, S, Vt = np.linalg.svd(X, full_matrices=False)\n",
    "\n",
    "# Visualize the first 10 singular vectors as eigenfaces\n",
    "for i in range(10):\n",
    "    singular_vector = Vt[i].reshape((h, w))\n",
    "    plt.figure()\n",
    "    plt.imshow(singular_vector, cmap='gray')\n",
    "    plt.title(f'Singular Vector {i+1}')\n",
    "    plt.show()"
   ]
  },
  {
   "cell_type": "markdown",
   "id": "87334bb0",
   "metadata": {},
   "source": [
    "## Similarities:\n",
    "Visualization Oberservation : Both eigendecomposition and SVD produces a similar looking image.\n",
    "Basis vectors: Both eigendecomposition and SVD can be used to compute the basis vectors (eigenfaces) that span the face image space.\n",
    "Image reconstruction: Both methods allow for image reconstruction by approximating an input image using a linear combination of the basis vectors.\n",
    "## Differences:\n",
    "Input matrix: Eigendecomposition requires the input matrix to be square and symmetric, while SVD can be applied to any rectangular matrix. In the context of eigenfaces, the input matrix is usually square and symmetric since it represents the covariance matrix.\n",
    "\n",
    "Basis vectors: Eigendecomposition produces the eigenvectors of the input matrix, which are used as the basis vectors (eigenfaces) in eigenfaces analysis. SVD produces two sets of orthogonal vectors, known as the left singular vectors (which correspond to eigenvectors of the input matrix) and the right singular vectors.\n",
    "\n",
    "Sign ambiguity: Eigendecomposition does not determine the sign of the eigenvectors, meaning the direction of the eigenfaces is arbitrary. On the other hand, SVD provides a unique decomposition where both the left and right singular vectors have positive components.\n",
    "\n",
    "Eigendecomposition is often used when the input matrix is square and symmetric, while SVD offers more flexibility and robustness for general rectangular matrices."
   ]
  },
  {
   "cell_type": "code",
   "execution_count": 4,
   "id": "e74a7043",
   "metadata": {},
   "outputs": [],
   "source": [
    "D_input = np.array(Faces).astype(float)\n",
    "\n",
    "y_age = np.array(Ages).astype(float)/100\n",
    "y_gender = np.array(Genders).astype(float)*2-1"
   ]
  },
  {
   "cell_type": "code",
   "execution_count": 5,
   "id": "6ad7cadb",
   "metadata": {},
   "outputs": [
    {
     "data": {
      "text/plain": [
       "array([1., 1., 1., ..., 1., 1., 1.])"
      ]
     },
     "execution_count": 5,
     "metadata": {},
     "output_type": "execute_result"
    }
   ],
   "source": [
    "y_gender"
   ]
  },
  {
   "cell_type": "markdown",
   "id": "a40e09cc",
   "metadata": {},
   "source": [
    "### train_test_split "
   ]
  },
  {
   "cell_type": "code",
   "execution_count": 6,
   "id": "e621a8f9",
   "metadata": {},
   "outputs": [],
   "source": [
    "X_train, X_test, y_age_train, y_age_test, y_gender_train, y_gender_test = train_test_split(D_input, y_age, y_gender, test_size=0.1, random_state=205)\n"
   ]
  },
  {
   "cell_type": "code",
   "execution_count": 7,
   "id": "80de7e6a",
   "metadata": {},
   "outputs": [
    {
     "data": {
      "text/plain": [
       "(8802, 2500)"
      ]
     },
     "execution_count": 7,
     "metadata": {},
     "output_type": "execute_result"
    }
   ],
   "source": [
    "X_train.shape"
   ]
  },
  {
   "cell_type": "code",
   "execution_count": 8,
   "id": "fc77c2f4",
   "metadata": {},
   "outputs": [],
   "source": [
    "# Lambda for Tikhnov regularization\n",
    "\n",
    "# A lot of lambda values were tested to find the best one\n",
    "Lambda = [i/100.0 for i in range(1, 100, 5)]"
   ]
  },
  {
   "cell_type": "code",
   "execution_count": 9,
   "id": "35696044",
   "metadata": {
    "scrolled": true
   },
   "outputs": [],
   "source": [
    "# Linear regression for age prediction using matrix calculus\n",
    "X_train_ones = np.concatenate([X_train.reshape(X_train.shape[0], -1), np.ones((X_train.shape[0], 1))], axis=1)\n",
    "X_test_ones = np.concatenate([X_test.reshape(X_test.shape[0], -1), np.ones((X_test.shape[0], 1))], axis=1)\n",
    "\n",
    "# Logistic regression for gender prediction using matrix calculus\n",
    "X_train_gender = np.concatenate([X_train.reshape(X_train.shape[0], -1), np.ones((X_train.shape[0], 1))], axis=1)\n",
    "X_test_gender = np.concatenate([X_test.reshape(X_test.shape[0], -1), np.ones((X_test.shape[0], 1))], axis=1)\n",
    "\n",
    "\n",
    "# MSE and ACC\n",
    "AGE_MSE = []\n",
    "GENDER_ACC = []\n",
    "\n",
    "for i in range(len(Lambda)):\n",
    "    # Compute the weight matrix for age prediction using matrix calculus\n",
    "    W_age = np.linalg.inv(X_train_ones.T @ X_train_ones + Lambda[i] * np.eye(2501)) @ X_train_ones.T @ y_age_train\n",
    "\n",
    "    # Make age predictions\n",
    "    y_age_pred = X_test_ones @ W_age\n",
    "    \n",
    "    # Compute the weight matrix for gender prediction using matrix calculus\n",
    "    W_gender = np.linalg.inv(X_train_gender.T @ X_train_gender + Lambda[i] * np.eye(2501)) @ X_train_gender.T @ y_gender_train\n",
    "\n",
    "    # Make gender predictions\n",
    "    y_gender_pred = np.sign(X_test_gender @ W_gender)\n",
    "\n",
    "    # Evaluate the models\n",
    "    age_mse = mean_squared_error(y_age_test, y_age_pred)\n",
    "    gender_accuracy = (y_gender_test == y_gender_pred).mean()\n",
    "\n",
    "    # Uncomment these two lines to see the output\n",
    "    # print(\"Age Mean Absolute Error:\", age_mse)\n",
    "    # print(\"Gender Accuracy:\", gender_accuracy)\n",
    "\n",
    "    AGE_MSE.append(age_mse)\n",
    "    GENDER_ACC.append(gender_accuracy)"
   ]
  },
  {
   "cell_type": "code",
   "execution_count": 10,
   "id": "0993dac6",
   "metadata": {},
   "outputs": [],
   "source": [
    "# Using SVD Features\n",
    "U_train, S_train, Vt_train = np.linalg.svd(X_train, full_matrices=False)\n",
    "U_test, S_test, Vt_test = np.linalg.svd(X_test, full_matrices=False)\n",
    "\n",
    "total_variance = np.sum(S_train ** 2)\n",
    "explained_variance_ratio = (S_train ** 2) / total_variance\n",
    "cumulative_variance_ratio = np.cumsum(explained_variance_ratio)\n",
    "\n",
    "# Number of components based on 95% variance\n",
    "n_components = np.argmax(cumulative_variance_ratio >= 0.95) + 1\n",
    "\n",
    "X_train_svd = U_train[:, :n_components] @ np.diag(S_train[:n_components])\n",
    "X_test_svd = U_test[:, :n_components] @ np.diag(S_test[:n_components])\n",
    "\n",
    "X_train_svd_ones = np.concatenate([X_train_svd, np.ones((X_train_svd.shape[0], 1))], axis=1)\n",
    "X_test_svd_ones = np.concatenate([X_test_svd, np.ones((X_test_svd.shape[0], 1))], axis=1)\n",
    "\n",
    "# MSE and ACC\n",
    "SVD_AGE_MSE = []\n",
    "SVD_GENDER_ACC = []\n",
    "\n",
    "for i in range(len(Lambda)):\n",
    "    # Compute the weight matrix for age prediction using matrix calculus\n",
    "    W_age = np.linalg.inv(X_train_svd_ones.T @ X_train_svd_ones + Lambda[i] * np.eye(7)) @ X_train_svd_ones.T @ y_age_train\n",
    "\n",
    "    # Make age predictions\n",
    "    y_age_pred = X_test_svd_ones @ W_age\n",
    "\n",
    "    # Compute the weight matrix for gender prediction using matrix calculus\n",
    "    W_gender = np.linalg.inv(X_train_svd_ones.T @ X_train_svd_ones + Lambda[i] * np.eye(7)) @ X_train_svd_ones.T @ y_gender_train\n",
    "\n",
    "    # Make gender predictions\n",
    "    y_gender_pred = np.sign(X_test_svd_ones @ W_gender)\n",
    "\n",
    "    svd_age_mse = mean_squared_error(y_age_test, y_age_pred)\n",
    "    svd_gender_accuracy = (y_gender_test == y_gender_pred).mean()\n",
    "\n",
    "    # Uncomment these two lines to see the output\n",
    "    # print(\"SVD Age Mean Absolute Error:\", svd_age_mse)\n",
    "    # print(\"SVD Gender Accuracy:\", svd_gender_accuracy)\n",
    "\n",
    "    SVD_AGE_MSE.append(svd_age_mse)\n",
    "    SVD_GENDER_ACC.append(svd_gender_accuracy)"
   ]
  },
  {
   "cell_type": "markdown",
   "id": "48ec8e03",
   "metadata": {},
   "source": [
    "### SVD Feature Extraction:¶\n",
    "The SVD decomposition of the training and test feature matrices X_train and X_test is performed using np.linalg.svd. This results in the matrices U_train, S_train, Vt_train for the training data, and U_test, S_test, Vt_test for the test data.\n",
    "\n",
    "The total variance of the training data is computed as the sum of squares of the singular values (S_train).\n",
    "\n",
    "The explained variance ratio is calculated by dividing the squares of the singular values by the total variance. This represents the amount of variance explained by each singular value.\n",
    "\n",
    "The cumulative variance ratio is obtained by cumulatively summing the explained variance ratios.\n",
    "\n",
    "The number of components (n_components) that captures at least 95% of the variance is determined by finding the index of the first cumulative variance ratio that is greater than or equal to 0.95.\n",
    "\n",
    "Feature Transformation:\n",
    "The feature matrices are reduced to n_components dimensions by multiplying the truncated left singular vectors (U_train and U_test) with a diagonal matrix formed from the first n_components singular values (S_train[:n_components] and S_test[:n_components]). This yields the transformed feature matrices X_train_svd and X_test_svd."
   ]
  },
  {
   "cell_type": "code",
   "execution_count": 11,
   "id": "8c455ffb",
   "metadata": {
    "scrolled": true
   },
   "outputs": [
    {
     "name": "stdout",
     "output_type": "stream",
     "text": [
      "    Lambda       MSE       ACC   SVD_MSE   SVD_ACC\n",
      "0     0.01  0.032121  0.744376  0.066134  0.623722\n",
      "1     0.06  0.031501  0.749489  0.066134  0.623722\n",
      "2     0.11  0.030993  0.751534  0.066135  0.623722\n",
      "3     0.16  0.030566  0.751534  0.066135  0.623722\n",
      "4     0.21  0.030198  0.752556  0.066135  0.623722\n",
      "5     0.26  0.029876  0.752556  0.066135  0.623722\n",
      "6     0.31  0.029591  0.754601  0.066135  0.623722\n",
      "7     0.36  0.029336  0.754601  0.066135  0.623722\n",
      "8     0.41  0.029105  0.756646  0.066135  0.623722\n",
      "9     0.46  0.028896  0.757669  0.066135  0.623722\n",
      "10    0.51  0.028705  0.759714  0.066135  0.623722\n",
      "11    0.56  0.028529  0.761759  0.066136  0.623722\n",
      "12    0.61  0.028367  0.764826  0.066136  0.623722\n",
      "13    0.66  0.028216  0.766871  0.066136  0.623722\n",
      "14    0.71  0.028076  0.771984  0.066136  0.623722\n",
      "15    0.76  0.027946  0.773006  0.066136  0.623722\n",
      "16    0.81  0.027823  0.774029  0.066136  0.623722\n",
      "17    0.86  0.027709  0.773006  0.066136  0.623722\n",
      "18    0.91  0.027601  0.775051  0.066136  0.623722\n",
      "19    0.96  0.027499  0.774029  0.066136  0.623722\n"
     ]
    }
   ],
   "source": [
    "# Without SVD => Plotting\n",
    "\n",
    "import pandas as pd\n",
    "\n",
    "# Create a Pandas DataFrame\n",
    "df = pd.DataFrame({\n",
    "    \"Lambda\": Lambda,\n",
    "    \"MSE\": AGE_MSE,\n",
    "    \"ACC\": GENDER_ACC,\n",
    "    \"SVD_MSE\": SVD_AGE_MSE,\n",
    "    \"SVD_ACC\": SVD_GENDER_ACC,\n",
    "})\n",
    "\n",
    "# Print the DataFrame\n",
    "print(df.to_string())\n"
   ]
  },
  {
   "cell_type": "code",
   "execution_count": 12,
   "id": "f6678093",
   "metadata": {},
   "outputs": [
    {
     "name": "stdout",
     "output_type": "stream",
     "text": [
      "Best Lambda for Age Prediction: 0.96\n"
     ]
    }
   ],
   "source": [
    "# Find the best lambda value for age prediction in the dataframe, include SVD as well\n",
    "\n",
    "best_lambda = df[df[\"MSE\"] == df[\"MSE\"].min()][\"Lambda\"].values[0] or df[df[\"SVD_MSE\"] == df[\"SVD_MSE\"].min()][\"Lambda\"].values[0]\n",
    "print(\"Best Lambda for Age Prediction:\", best_lambda)"
   ]
  },
  {
   "cell_type": "markdown",
   "id": "58854227",
   "metadata": {},
   "source": [
    "# \n",
    "It can be seen that the model performs best when lambda is 0.96 and no svd processing is performed"
   ]
  },
  {
   "cell_type": "code",
   "execution_count": 13,
   "id": "a8737f1c",
   "metadata": {},
   "outputs": [],
   "source": [
    "#Store optimal data\n",
    "BestLambda = 0.96\n",
    "Best_W_age = np.linalg.inv(X_train_ones.T @ X_train_ones + BestLambda * np.eye(2501)) @ X_train_ones.T @ y_age_train\n",
    "Best_W_gender = np.linalg.inv(X_train_gender.T @ X_train_gender + Lambda[i] * np.eye(2501)) @ X_train_gender.T @ y_gender_train"
   ]
  },
  {
   "cell_type": "markdown",
   "id": "c3ac5dca",
   "metadata": {},
   "source": [
    "## ANN Approach"
   ]
  },
  {
   "cell_type": "code",
   "execution_count": 14,
   "id": "2511e121",
   "metadata": {},
   "outputs": [
    {
     "data": {
      "text/plain": [
       "array([[0.37778933, 0.36969226, 0.36817558, ..., 0.44057508, 0.44102552,\n",
       "        0.44177759]])"
      ]
     },
     "execution_count": 14,
     "metadata": {},
     "output_type": "execute_result"
    }
   ],
   "source": [
    "X_train_mean = np.mean(X_train,axis=0)[None,:]\n",
    "X_train_mean"
   ]
  },
  {
   "cell_type": "code",
   "execution_count": 15,
   "id": "d217b523",
   "metadata": {},
   "outputs": [],
   "source": [
    "# Demean\n",
    "X_train_demean = X_train - X_train_mean\n",
    "X_test_demean = X_test - X_train_mean"
   ]
  },
  {
   "cell_type": "code",
   "execution_count": 16,
   "id": "2c26f313",
   "metadata": {},
   "outputs": [],
   "source": [
    "Q, s, PT = np.linalg.svd(X_train_demean)\n",
    "\n",
    "e_values_sq = s/X_train.shape[0]**0.5"
   ]
  },
  {
   "cell_type": "code",
   "execution_count": 17,
   "id": "355bc999",
   "metadata": {},
   "outputs": [],
   "source": [
    "X_train_whitten = X_train_demean@PT.T@np.linalg.inv(np.diag(e_values_sq))\n",
    "X_test_whitten = X_test_demean@PT.T@np.linalg.inv(np.diag(e_values_sq))"
   ]
  },
  {
   "cell_type": "code",
   "execution_count": 18,
   "id": "81bdfd7d",
   "metadata": {},
   "outputs": [],
   "source": [
    "k = 2\n",
    "X_train_whitten_reduced = X_train_demean@PT.T[:,:k]@np.linalg.inv(np.diag(e_values_sq[:k]))\n",
    "X_test_whitten_reduced = X_test_demean@PT.T[:,:k]@np.linalg.inv(np.diag(e_values_sq[:k]))"
   ]
  },
  {
   "cell_type": "markdown",
   "id": "170b4528",
   "metadata": {},
   "source": [
    "### SGD"
   ]
  },
  {
   "cell_type": "code",
   "execution_count": 20,
   "id": "a21a950d",
   "metadata": {},
   "outputs": [
    {
     "name": "stdout",
     "output_type": "stream",
     "text": [
      "0.05966353248932006\n",
      "0.05958726254162009\n",
      "0.059569863176439884\n",
      "0.059552877724198476\n",
      "0.05953549343177359\n",
      "0.05951797248849929\n",
      "0.059500424874591645\n",
      "0.05948285142433611\n",
      "0.05946520157866409\n",
      "0.05944740365990123\n",
      "0.05942937905840569\n",
      "0.05941104859287947\n",
      "0.05939233527731713\n",
      "0.05937316549583805\n",
      "0.05935346950683233\n",
      "0.059333181706791846\n",
      "0.05931224087631508\n",
      "0.05929059055843232\n",
      "0.05926817971386207\n",
      "0.05924496382537087\n",
      "MSE on test set with SGD:\n",
      "0.059266529212253546\n"
     ]
    }
   ],
   "source": [
    "#Age model\n",
    "y_train = y_age_train\n",
    "y_test = y_age_test\n",
    "\n",
    "neuron_in_hidden_layer = 2 # number of hidden neuron in the hidden layer\n",
    "\n",
    "W_hidden = np.random.randn(neuron_in_hidden_layer,X_train_whitten_reduced.shape[1]+1)/k\n",
    "\n",
    "W_output = np.random.randn(1,neuron_in_hidden_layer+1)/neuron_in_hidden_layer\n",
    "\n",
    "\n",
    "def SGD_AGE_predict(X, W_hidden,W_output):\n",
    "    \n",
    "    y_pred = []\n",
    "    for i in range(X.shape[0]):\n",
    "        x_i = X[i:i+1]\n",
    "        x_i_1 = np.hstack([x_i,[[1]]])\n",
    "        x_h_i = sigmoid(W_hidden@x_i_1.T)\n",
    "        x_h_i_1 = np.vstack([x_h_i,[1]])\n",
    "        x_o = W_output@x_h_i_1\n",
    "        y_pred.append([x_o[0][0]])\n",
    "        \n",
    "    return np.array(y_pred),x_h_i_1,x_i_1\n",
    "\n",
    "\n",
    "def sigmoid(y):\n",
    "    return 1/(1+np.exp(-y))\n",
    "\n",
    "learning_rate = 0.01\n",
    "\n",
    "for e in range(20):# for each epoch\n",
    "    for i in range(X_train.shape[0]):\n",
    "        x_i = X_train_whitten_reduced[i:i+1]\n",
    "        y_i = y_train[i]\n",
    "        \n",
    "        y_pred_i,x_h_i_1,x_i_1 = SGD_AGE_predict(x_i, W_hidden,W_output)\n",
    "\n",
    "        delta_k = y_i - y_pred_i\n",
    "        \n",
    "        #Gradient for output layer\n",
    "        Gradient_output  = -delta_k*x_h_i_1.T\n",
    "        \n",
    "        # Gradient Descent rule\n",
    "        W_output = W_output -  learning_rate*Gradient_output\n",
    "\n",
    "        \n",
    "        delta_h = x_h_i_1*(1-x_h_i_1)*W_output.T*delta_k\n",
    "        \n",
    "        # Update each hidden unit\n",
    "        Gradient_hidden = np.zeros_like(W_hidden)\n",
    "        for h in range(W_hidden.shape[0]):\n",
    "            \n",
    "            #Gradient for hidden layer\n",
    "            Gradient_hidden[h,:] =  - delta_h[h] * x_i_1\n",
    "            \n",
    "        # Gradient Descent rule\n",
    "        W_hidden = W_hidden -  learning_rate * Gradient_hidden\n",
    "    \n",
    "    \n",
    "    y_pred,_,_ = SGD_AGE_predict(X_train_whitten_reduced, W_hidden,W_output)\n",
    "    print(mean_squared_error(y_train,y_pred))\n",
    "    \n",
    "\n",
    "#Test on tests set\n",
    "y_pred_test,_,_ = SGD_AGE_predict(X_test_whitten_reduced, W_hidden,W_output)\n",
    "sgd_age_test = mean_squared_error(y_test,y_pred_test)\n",
    "print(\"MSE on test set with SGD:\")\n",
    "print(sgd_age_test)\n",
    "\n",
    "#Save weight parameter\n",
    "SGD_AGE_W_hidden =  W_hidden\n",
    "SGD_AGE_W_output = W_output"
   ]
  },
  {
   "cell_type": "code",
   "execution_count": 21,
   "id": "a7d421de",
   "metadata": {},
   "outputs": [
    {
     "name": "stdout",
     "output_type": "stream",
     "text": [
      "[ True False False ...  True  True False] [ True  True  True ... False  True  True]\n",
      "[ 1. -1. -1. ...  1.  1. -1.] [ 0.03251578  0.13073704  0.03035149 ... -0.06281896  0.0361867\n",
      "  0.01446098]\n",
      "Accuracy: 0.5721426948420814\n",
      "[ True False False ...  True  True False] [ True  True  True ... False  True  True]\n",
      "[ 1. -1. -1. ...  1.  1. -1.] [ 0.02630022  0.13669866  0.02028522 ... -0.04904616  0.02468236\n",
      "  0.01461462]\n",
      "Accuracy: 0.5697568734378551\n",
      "[ True False False ...  True  True False] [ True  True  True ... False  True  True]\n",
      "[ 1. -1. -1. ...  1.  1. -1.] [ 0.02437577  0.13426025  0.01774826 ... -0.04081013  0.0214634\n",
      "  0.01509677]\n",
      "Accuracy: 0.5700977050670302\n",
      "[ True False False ...  True  True False] [ True  True  True ... False  True  True]\n",
      "[ 1. -1. -1. ...  1.  1. -1.] [ 0.02342675  0.13152229  0.01675386 ... -0.03447245  0.01997972\n",
      "  0.0156902 ]\n",
      "Accuracy: 0.5699840945239718\n",
      "[ True False False ...  True  True False] [ True  True  True ... False  True  True]\n",
      "[ 1. -1. -1. ...  1.  1. -1.] [ 0.0231163   0.12879898  0.01674985 ... -0.02956607  0.01963501\n",
      "  0.01632415]\n",
      "Accuracy: 0.5700977050670302\n",
      "[ True False False ...  True  True False] [ True  True  True ... False  True  True]\n",
      "[ 1. -1. -1. ...  1.  1. -1.] [ 0.02323792  0.12609786  0.01741544 ... -0.02580916  0.02008134\n",
      "  0.01693541]\n",
      "Accuracy: 0.5705521472392638\n",
      "[ True False False ...  True  True False] [ True  True  True ... False  True  True]\n",
      "[ 1. -1. -1. ...  1.  1. -1.] [ 0.02362937  0.12345083  0.01848546 ... -0.02291906  0.0210234\n",
      "  0.01749837]\n",
      "Accuracy: 0.5704385366962054\n",
      "[ True False False ...  True  True False] [ True  True  True ... False  True  True]\n",
      "[ 1. -1. -1. ...  1.  1. -1.] [ 0.02417086  0.1209031   0.01975588 ... -0.02063971  0.02222858\n",
      "  0.01801239]\n",
      "Accuracy: 0.571461031583731\n",
      "[ True False False ...  True  True False] [ True  True  True ... False  True  True]\n",
      "[ 1. -1. -1. ...  1.  1. -1.] [ 0.02478066  0.11849634  0.02108327 ... -0.01876357  0.02352964\n",
      "  0.01848927]\n",
      "Accuracy: 0.5716882526698478\n",
      "[ True False False ...  True  True False] [ True  True  True ... False  True  True]\n",
      "[ 1. -1. -1. ...  1.  1. -1.] [ 0.02540698  0.11626031  0.0223755  ... -0.01713848  0.02481657\n",
      "  0.01894373]\n",
      "Accuracy: 0.570324926153147\n",
      "[ True False False ...  True  True False] [ True  True  True ... False  True  True]\n",
      "[ 1. -1. -1. ...  1.  1. -1.] [ 0.02601925  0.11421104  0.02357947 ... -0.01566342  0.02602397\n",
      "  0.01938791]\n",
      "Accuracy: 0.5695296523517382\n",
      "[ True False False ...  True  True False] [ True  True  True ... False  True  True]\n",
      "[ 1. -1. -1. ...  1.  1. -1.] [ 0.02660085  0.11235243  0.02466936 ... -0.01427827  0.02711829\n",
      "  0.01982916]\n",
      "Accuracy: 0.5673710520336287\n",
      "[ True False False ...  True  True False] [ True  True  True ... False  True  True]\n",
      "[ 1. -1. -1. ...  1.  1. -1.] [ 0.02714386  0.11067929  0.02563714 ... -0.01295214  0.02808723\n",
      "  0.02027024]\n",
      "Accuracy: 0.5666893887752783\n",
      "[ True False False ...  True  True False] [ True  True  True ... False  True  True]\n",
      "[ 1. -1. -1. ...  1.  1. -1.] [ 0.02764562  0.10918038  0.02648568 ... -0.01167284  0.02893167\n",
      "  0.02071056]\n",
      "Accuracy: 0.5664621676891616\n",
      "[ True False False ...  True  True False] [ True  True  True ... False  True  True]\n",
      "[ 1. -1. -1. ...  1.  1. -1.] [ 0.02810664  0.10784108  0.02722388 ... -0.01043875  0.02966002\n",
      "  0.02114767]\n",
      "Accuracy: 0.5658941149738695\n",
      "[ True False False ...  True  True False] [ True  True  True ... False  True  True]\n",
      "[ 1. -1. -1. ...  1.  1. -1.] [ 0.02852931  0.10664542  0.02786362 ... -0.00925309  0.03028446\n",
      "  0.02157854]\n",
      "Accuracy: 0.5658941149738695\n",
      "[ True False False ...  True  True False] [ True  True  True ... False  True  True]\n",
      "[ 1. -1. -1. ...  1.  1. -1.] [ 0.02891709  0.10557745  0.02841769 ... -0.00812028  0.0308185\n",
      "  0.02200044]\n",
      "Accuracy: 0.5655532833446943\n",
      "[ True False False ...  True  True False] [ True  True  True ... False  True  True]\n",
      "[ 1. -1. -1. ...  1.  1. -1.] [ 0.02927397  0.10462223  0.02889871 ... -0.00704391  0.03127558\n",
      "  0.02241143]\n",
      "Accuracy: 0.5663485571461031\n",
      "[ True False False ...  True  True False] [ True  True  True ... False  True  True]\n",
      "[ 1. -1. -1. ...  1.  1. -1.] [ 0.02960421  0.10376628  0.02931837 ... -0.00602568  0.0316682\n",
      "  0.02281055]\n",
      "Accuracy: 0.5666893887752783\n",
      "[ True False False ...  True  True False] [ True  True  True ... False  True  True]\n",
      "[ 1. -1. -1. ...  1.  1. -1.] [ 0.029912    0.10299782  0.02968718 ... -0.00506511  0.03200753\n",
      "  0.02319783]\n",
      "Accuracy: 0.5655532833446943\n",
      "Accuracy on test set with SGD: 0.5736196319018405\n"
     ]
    }
   ],
   "source": [
    "#Gender model\n",
    "y_train = y_gender_train\n",
    "y_test = y_gender_test\n",
    "\n",
    "neuron_in_hidden_layer = 2 # number of hidden neuron in the hidden layer\n",
    "\n",
    "W_hidden = np.random.randn(neuron_in_hidden_layer,X_train_whitten_reduced.shape[1]+1)/k\n",
    "\n",
    "W_output = np.random.randn(1,neuron_in_hidden_layer+1)/neuron_in_hidden_layer\n",
    "\n",
    "\n",
    "def SGD_GENDER_predict(X, W_hidden,W_output):\n",
    "    \n",
    "    y_pred = []\n",
    "    for i in range(X.shape[0]):\n",
    "        x_i = X[i:i+1]\n",
    "        x_i_1 = np.hstack([x_i,[[1]]])\n",
    "        x_h_i = sigmoid(W_hidden@x_i_1.T)\n",
    "        x_h_i_1 = np.vstack([x_h_i,[1]])\n",
    "        x_o = W_output@x_h_i_1\n",
    "        y_pred.append([x_o[0][0]])\n",
    "        \n",
    "    return np.array(y_pred),x_h_i_1,x_i_1\n",
    "\n",
    "\n",
    "def sigmoid(y):\n",
    "    return 1/(1+np.exp(-y))\n",
    "\n",
    "learning_rate = 0.01\n",
    "\n",
    "for e in range(20):# for each epoch\n",
    "    for i in range(X_train.shape[0]):\n",
    "        x_i = X_train_whitten_reduced[i:i+1]\n",
    "        y_i = y_train[i]\n",
    "        \n",
    "        y_pred_i,x_h_i_1,x_i_1 = SGD_GENDER_predict(x_i, W_hidden,W_output)\n",
    "\n",
    "        delta_k = y_i - y_pred_i\n",
    "        \n",
    "        #Gradient for output layer\n",
    "        Gradient_output  = -delta_k*x_h_i_1.T\n",
    "        \n",
    "        # Gradient Descent rule\n",
    "        W_output = W_output -  learning_rate*Gradient_output\n",
    "\n",
    "        \n",
    "        delta_h = x_h_i_1*(1-x_h_i_1)*W_output.T*delta_k\n",
    "        \n",
    "        # Update each hidden unit\n",
    "        Gradient_hidden = np.zeros_like(W_hidden)\n",
    "        for h in range(W_hidden.shape[0]):\n",
    "            \n",
    "            #Gradient for hidden layer\n",
    "            Gradient_hidden[h,:] =  - delta_h[h] * x_i_1\n",
    "            \n",
    "        # Gradient Descent rule\n",
    "        W_hidden = W_hidden -  learning_rate * Gradient_hidden\n",
    "    \n",
    "    \n",
    "    y_pred,_,_ = SGD_GENDER_predict(X_train_whitten_reduced, W_hidden,W_output)\n",
    "    print(y_train>0,y_pred[:,0]>0)\n",
    "    print(y_train,y_pred[:,0])\n",
    "    print(\"Accuracy:\",np.sum(np.sign(y_train)==np.sign(y_pred[:,0]))/y_train.shape[0])\n",
    "\n",
    "#Test on test set\n",
    "y_pred_test,_,_ = SGD_GENDER_predict(X_test_whitten_reduced, W_hidden,W_output)\n",
    "sgd_gender_test = np.sum(np.sign(y_test)==np.sign(y_pred_test[:,0]))/y_test.shape[0]\n",
    "print(\"Accuracy on test set with SGD:\",sgd_gender_test)\n",
    "\n",
    "#Save weight parameter\n",
    "SGD_GENDER_W_hidden =  W_hidden\n",
    "SGD_GENDER_W_output = W_output"
   ]
  },
  {
   "cell_type": "markdown",
   "id": "e46efc8b",
   "metadata": {},
   "source": [
    "### Adam"
   ]
  },
  {
   "cell_type": "code",
   "execution_count": 27,
   "id": "8bb581a1",
   "metadata": {},
   "outputs": [
    {
     "name": "stdout",
     "output_type": "stream",
     "text": [
      "0.06025312768794514\n",
      "0.05954037908712942\n",
      "0.05937916770933055\n",
      "0.05931729857818623\n",
      "0.05928223641538995\n",
      "0.05926036609692365\n",
      "0.05924613631017258\n",
      "0.059241103031351994\n",
      "0.05936946489807452\n",
      "0.0594200555430393\n",
      "0.05946808854586425\n",
      "0.059504796332441504\n",
      "0.05953314634109543\n",
      "0.05955589211296091\n",
      "0.059574741357343995\n",
      "0.05959076914042326\n",
      "0.05960468223082139\n",
      "0.05961687585547509\n",
      "0.05962736211713811\n",
      "0.05963571907263072\n",
      "MSE on test set with adam:\n",
      "0.0595782220617443\n"
     ]
    }
   ],
   "source": [
    "#Age model\n",
    "y_train = y_age_train\n",
    "y_test = y_age_test\n",
    "\n",
    "neuron_in_hidden_layer = 2 # number of hidden neuron in the hidden layer\n",
    "\n",
    "W_hidden = np.random.randn(neuron_in_hidden_layer,X_train_whitten_reduced.shape[1]+1)/k\n",
    "\n",
    "W_output = np.random.randn(1,neuron_in_hidden_layer+1)/neuron_in_hidden_layer\n",
    "\n",
    "# Define the parameters of Adam optimization algorithm\n",
    "beta1 = 0.9 #The exponential decay rate of the first moment estimate\n",
    "beta2 = 0.999 #Second order moment estimated exponential decay rate\n",
    "epsilon = 1e-8 #Avoid dividing decimals by zero\n",
    "epoch = 20 #Cycle number\n",
    "num_examples = X_train_whitten_reduced.shape[0]\n",
    "\n",
    "# Initialize the first and second moment estimates of Adam\n",
    "m_W_hidden = np.zeros_like(W_hidden)\n",
    "v_W_hidden = np.zeros_like(W_hidden)\n",
    "m_W_output = np.zeros_like(W_output)\n",
    "v_W_output = np.zeros_like(W_output)\n",
    "\n",
    "\n",
    "def ADAM_AGE_predict(X, W_hidden,W_output):\n",
    "    \n",
    "    y_pred = []\n",
    "    for i in range(X.shape[0]):\n",
    "        x_i = X[i:i+1]\n",
    "        x_i_1 = np.hstack([x_i,[[1]]])\n",
    "        x_h_i = sigmoid(W_hidden@x_i_1.T)\n",
    "        x_h_i_1 = np.vstack([x_h_i,[1]])\n",
    "        x_o = W_output@x_h_i_1\n",
    "        y_pred.append([x_o[0][0]])\n",
    "        \n",
    "    return np.array(y_pred),x_h_i_1,x_i_1\n",
    "\n",
    "\n",
    "def sigmoid(y):\n",
    "    return 1/(1+np.exp(-y))\n",
    "\n",
    "learning_rate = 0.01\n",
    "\n",
    "for e in range(20):# for each epoch\n",
    "    for i in range(X_train.shape[0]):\n",
    "        x_i = X_train_whitten_reduced[i:i+1]\n",
    "        y_i = y_train[i]\n",
    "        \n",
    "        y_pred_i,x_h_i_1,x_i_1 = ADAM_AGE_predict(x_i, W_hidden,W_output)\n",
    "\n",
    "        delta_k = y_i - y_pred_i\n",
    "        \n",
    "        #Gradient for output layer\n",
    "        Gradient_output  = -delta_k*x_h_i_1.T\n",
    "        \n",
    "        # Update first and second moment estimates\n",
    "        m_W_output = beta1 * m_W_output + (1 - beta1) * Gradient_output\n",
    "        v_W_output = beta2 * v_W_output + (1 - beta2) * (Gradient_output**2)\n",
    "\n",
    "        # Adam optimization algorithm was used to update the weight of the output layer\n",
    "        m_W_output_hat = m_W_output / (1 - beta1**(epoch*num_examples + i + 1))\n",
    "        v_W_output_hat = v_W_output / (1 - beta2**(epoch*num_examples + i + 1))\n",
    "        W_output -= learning_rate * m_W_output_hat / (np.sqrt(v_W_output_hat) + epsilon)\n",
    "\n",
    "        \n",
    "        delta_h = x_h_i_1*(1-x_h_i_1)*W_output.T*delta_k\n",
    "        \n",
    "        # Update each hidden unit\n",
    "        Gradient_hidden = np.zeros_like(W_hidden)\n",
    "        for h in range(W_hidden.shape[0]):\n",
    "            \n",
    "            #Gradient for hidden layer\n",
    "            Gradient_hidden[h,:] =  - delta_h[h] * x_i_1\n",
    "         \n",
    "        # Update first and second moment estimates    \n",
    "        m_W_hidden = beta1 * m_W_hidden + (1 - beta1) * Gradient_hidden\n",
    "        v_W_hidden = beta2 * v_W_hidden + (1 - beta2) * (Gradient_hidden**2)\n",
    "\n",
    "        # Adam optimization algorithm is used to update the hidden layer weight\n",
    "        m_W_hidden_hat = m_W_hidden / (1 - beta1**(epoch*num_examples + i + 1))\n",
    "        v_W_hidden_hat = v_W_hidden / (1 - beta2**(epoch*num_examples + i + 1))\n",
    "        W_hidden -= learning_rate * m_W_hidden_hat / (np.sqrt(v_W_hidden_hat) + epsilon)\n",
    "    \n",
    "    \n",
    "    y_pred,_,_ = ADAM_AGE_predict(X_train_whitten_reduced, W_hidden,W_output)\n",
    "    print(mean_squared_error(y_train,y_pred))\n",
    "    \n",
    "#Test on tests set\n",
    "y_pred_test,_,_ = ADAM_AGE_predict(X_test_whitten_reduced, W_hidden,W_output)\n",
    "adam_age_test = mean_squared_error(y_test,y_pred_test)\n",
    "print(\"MSE on test set with adam:\")\n",
    "print(adam_age_test)\n",
    "\n",
    "#Save weight parameter\n",
    "ADAM_AGE_W_hidden =  W_hidden\n",
    "ADAM_AGE_W_output = W_output"
   ]
  },
  {
   "cell_type": "code",
   "execution_count": 29,
   "id": "6ea047d0",
   "metadata": {},
   "outputs": [
    {
     "name": "stdout",
     "output_type": "stream",
     "text": [
      "[ True False False ...  True  True False] [ True  True  True ... False  True  True]\n",
      "[ 1. -1. -1. ...  1.  1. -1.] [ 0.01621507  0.14003412  0.00744147 ... -0.00837672  0.00842243\n",
      "  0.0171075 ]\n",
      "Accuracy: 0.5677118836628039\n",
      "[ True False False ...  True  True False] [ True  True  True ...  True  True  True]\n",
      "[ 1. -1. -1. ...  1.  1. -1.] [0.02022867 0.1192908  0.01468364 ... 0.01051436 0.01495751 0.02219337]\n",
      "Accuracy: 0.5641899568279937\n",
      "[ True False False ...  True  True False] [ True  True  True ...  True  True  True]\n",
      "[ 1. -1. -1. ...  1.  1. -1.] [0.02420191 0.10909293 0.02028956 ... 0.01816716 0.02043567 0.02582951]\n",
      "Accuracy: 0.5530561236082708\n",
      "[ True False False ...  True  True False] [ True  True  True ...  True  True  True]\n",
      "[ 1. -1. -1. ...  1.  1. -1.] [0.0265948  0.10366832 0.02350597 ... 0.02210409 0.02360564 0.0279746 ]\n",
      "Accuracy: 0.5530561236082708\n",
      "[ True False False ...  True  True False] [ True  True  True ...  True  True  True]\n",
      "[ 1. -1. -1. ...  1.  1. -1.] [0.02825058 0.10028554 0.02563416 ... 0.02456598 0.02571174 0.02946586]\n",
      "Accuracy: 0.5530561236082708\n",
      "[ True False False ...  True  True False] [ True  True  True ...  True  True  True]\n",
      "[ 1. -1. -1. ...  1.  1. -1.] [0.02945192 0.09801407 0.02712884 ... 0.02623852 0.02719439 0.03055593]\n",
      "Accuracy: 0.5530561236082708\n",
      "[ True False False ...  True  True False] [ True  True  True ...  True  True  True]\n",
      "[ 1. -1. -1. ...  1.  1. -1.] [0.03033029 0.0964368  0.02819902 ... 0.02741327 0.02825738 0.03135763]\n",
      "Accuracy: 0.5530561236082708\n",
      "[ True False False ...  True  True False] [ True  True  True ...  True  True  True]\n",
      "[ 1. -1. -1. ...  1.  1. -1.] [0.0309749  0.09531879 0.02897377 ... 0.0282539  0.02902754 0.03194848]\n",
      "Accuracy: 0.5530561236082708\n",
      "[ True False False ...  True  True False] [ True  True  True ...  True  True  True]\n",
      "[ 1. -1. -1. ...  1.  1. -1.] [0.03144994 0.09451454 0.02953947 ... 0.0288632  0.02959017 0.03238522]\n",
      "Accuracy: 0.5530561236082708\n",
      "[ True False False ...  True  True False] [ True  True  True ...  True  True  True]\n",
      "[ 1. -1. -1. ...  1.  1. -1.] [0.03180143 0.09392962 0.02995536 ... 0.02930894 0.03000396 0.03270909]\n",
      "Accuracy: 0.5530561236082708\n",
      "[ True False False ...  True  True False] [ True  True  True ...  True  True  True]\n",
      "[ 1. -1. -1. ...  1.  1. -1.] [0.0320624  0.09350072 0.03026275 ... 0.02963729 0.03030985 0.03294994]\n",
      "Accuracy: 0.5530561236082708\n",
      "[ True False False ...  True  True False] [ True  True  True ...  True  True  True]\n",
      "[ 1. -1. -1. ...  1.  1. -1.] [0.0322567  0.09318429 0.03049086 ... 0.02988037 0.0305369  0.03312947]\n",
      "Accuracy: 0.5530561236082708\n",
      "[ True False False ...  True  True False] [ True  True  True ...  True  True  True]\n",
      "[ 1. -1. -1. ...  1.  1. -1.] [0.03240168 0.09294976 0.03066067 ... 0.03006102 0.03070593 0.03326356]\n",
      "Accuracy: 0.5530561236082708\n",
      "[ True False False ...  True  True False] [ True  True  True ...  True  True  True]\n",
      "[ 1. -1. -1. ...  1.  1. -1.] [0.03251005 0.09277534 0.03078737 ... 0.03019564 0.03083206 0.03336384]\n",
      "Accuracy: 0.5530561236082708\n",
      "[ True False False ...  True  True False] [ True  True  True ...  True  True  True]\n",
      "[ 1. -1. -1. ...  1.  1. -1.] [0.03259115 0.09264529 0.03088207 ... 0.03029617 0.03092634 0.03343893]\n",
      "Accuracy: 0.5530561236082708\n",
      "[ True False False ...  True  True False] [ True  True  True ...  True  True  True]\n",
      "[ 1. -1. -1. ...  1.  1. -1.] [0.03265191 0.09254813 0.03095294 ... 0.03037136 0.0309969  0.0334952 ]\n",
      "Accuracy: 0.5530561236082708\n",
      "[ True False False ...  True  True False] [ True  True  True ...  True  True  True]\n",
      "[ 1. -1. -1. ...  1.  1. -1.] [0.03269746 0.09247544 0.03100604 ... 0.03042766 0.03104977 0.03353741]\n",
      "Accuracy: 0.5530561236082708\n",
      "[ True False False ...  True  True False] [ True  True  True ...  True  True  True]\n",
      "[ 1. -1. -1. ...  1.  1. -1.] [0.03273163 0.09242099 0.03104585 ... 0.03046986 0.03108941 0.03356907]\n",
      "Accuracy: 0.5530561236082708\n",
      "[ True False False ...  True  True False] [ True  True  True ...  True  True  True]\n",
      "[ 1. -1. -1. ...  1.  1. -1.] [0.03275727 0.09238019 0.03107571 ... 0.0305015  0.03111914 0.03359283]\n",
      "Accuracy: 0.5530561236082708\n",
      "[ True False False ...  True  True False] [ True  True  True ...  True  True  True]\n",
      "[ 1. -1. -1. ...  1.  1. -1.] [0.03277652 0.09234958 0.03109812 ... 0.03052525 0.03114146 0.03361068]\n",
      "Accuracy: 0.5530561236082708\n",
      "Accuracy on test set with adam: 0.5521472392638037\n"
     ]
    }
   ],
   "source": [
    "#gender model\n",
    "y_train = y_gender_train\n",
    "y_test = y_gender_test\n",
    "\n",
    "neuron_in_hidden_layer = 2 # number of hidden neuron in the hidden layer\n",
    "\n",
    "W_hidden = np.random.randn(neuron_in_hidden_layer,X_train_whitten_reduced.shape[1]+1)/k\n",
    "\n",
    "W_output = np.random.randn(1,neuron_in_hidden_layer+1)/neuron_in_hidden_layer\n",
    "\n",
    "# Define the parameters of Adam optimization algorithm\n",
    "beta1 = 0.9 #The exponential decay rate of the first moment estimate\n",
    "beta2 = 0.999 #Second order moment estimated exponential decay rate\n",
    "epsilon = 1e-8 #Avoid dividing decimals by zero\n",
    "epoch = 20 #Cycle number\n",
    "\n",
    "# Initialize the first and second moment estimates of Adam\n",
    "m_W_hidden = np.zeros_like(W_hidden)\n",
    "v_W_hidden = np.zeros_like(W_hidden)\n",
    "m_W_output = np.zeros_like(W_output)\n",
    "v_W_output = np.zeros_like(W_output)\n",
    "\n",
    "\n",
    "def ADAM_GENDER_predict(X, W_hidden,W_output):\n",
    "    \n",
    "    y_pred = []\n",
    "    for i in range(X.shape[0]):\n",
    "        x_i = X[i:i+1]\n",
    "        x_i_1 = np.hstack([x_i,[[1]]])\n",
    "        x_h_i = sigmoid(W_hidden@x_i_1.T)\n",
    "        x_h_i_1 = np.vstack([x_h_i,[1]])\n",
    "        x_o = W_output@x_h_i_1\n",
    "        y_pred.append([x_o[0][0]])\n",
    "        \n",
    "    return np.array(y_pred),x_h_i_1,x_i_1\n",
    "\n",
    "\n",
    "def sigmoid(y):\n",
    "    return 1/(1+np.exp(-y))\n",
    "\n",
    "learning_rate = 0.01\n",
    "\n",
    "for e in range(20):# for each epoch\n",
    "    for i in range(X_train.shape[0]):\n",
    "        x_i = X_train_whitten_reduced[i:i+1]\n",
    "        y_i = y_train[i]\n",
    "        \n",
    "        y_pred_i,x_h_i_1,x_i_1 = ADAM_GENDER_predict(x_i, W_hidden,W_output)\n",
    "\n",
    "        delta_k = y_i - y_pred_i\n",
    "        \n",
    "        #Gradient for output layer\n",
    "        Gradient_output  = -delta_k*x_h_i_1.T\n",
    "        \n",
    "        # Update first and second moment estimates\n",
    "        m_W_output = beta1 * m_W_output + (1 - beta1) * Gradient_output\n",
    "        v_W_output = beta2 * v_W_output + (1 - beta2) * (Gradient_output**2)\n",
    "\n",
    "        # Adam optimization algorithm was used to update the weight of the output layer\n",
    "        m_W_output_hat = m_W_output / (1 - beta1**(e*num_examples + i + 1))\n",
    "        v_W_output_hat = v_W_output / (1 - beta2**(e*num_examples + i + 1))\n",
    "        W_output -= learning_rate * m_W_output_hat / (np.sqrt(v_W_output_hat) + epsilon)\n",
    "\n",
    "        \n",
    "        delta_h = x_h_i_1*(1-x_h_i_1)*W_output.T*delta_k\n",
    "        \n",
    "        # Update each hidden unit\n",
    "        Gradient_hidden = np.zeros_like(W_hidden)\n",
    "        for h in range(W_hidden.shape[0]):\n",
    "            \n",
    "            #Gradient for hidden layer\n",
    "            Gradient_hidden[h,:] =  - delta_h[h] * x_i_1\n",
    "         \n",
    "        # Update first and second moment estimates    \n",
    "        m_W_hidden = beta1 * m_W_hidden + (1 - beta1) * Gradient_hidden\n",
    "        v_W_hidden = beta2 * v_W_hidden + (1 - beta2) * (Gradient_hidden**2)\n",
    "\n",
    "        # Adam optimization algorithm is used to update the hidden layer weight\n",
    "        m_W_hidden_hat = m_W_hidden / (1 - beta1**(epoch*num_examples + i + 1))\n",
    "        v_W_hidden_hat = v_W_hidden / (1 - beta2**(epoch*num_examples + i + 1))\n",
    "        W_hidden -= learning_rate * m_W_hidden_hat / (np.sqrt(v_W_hidden_hat) + epsilon)\n",
    "    \n",
    "    \n",
    "    y_pred,_,_ = ADAM_GENDER_predict(X_train_whitten_reduced, W_hidden,W_output)\n",
    "    print(y_train>0,y_pred[:,0]>0)\n",
    "    print(y_train,y_pred[:,0])\n",
    "    print(\"Accuracy:\",np.sum(np.sign(y_train)==np.sign(y_pred[:,0]))/y_train.shape[0])\n",
    "\n",
    "#Test on test set\n",
    "y_pred_test,_,_ = ADAM_GENDER_predict(X_test_whitten_reduced, W_hidden,W_output)\n",
    "adam_gender_test = np.sum(np.sign(y_test)==np.sign(y_pred_test[:,0]))/y_test.shape[0]\n",
    "print(\"Accuracy on test set with adam:\",adam_gender_test)\n",
    "\n",
    "#Save weight parameter\n",
    "ADAM_GENDER_W_hidden =  W_hidden\n",
    "ADAM_GENDER_W_output = W_output"
   ]
  },
  {
   "cell_type": "markdown",
   "id": "b8b01363",
   "metadata": {},
   "source": [
    "### Summary\n",
    "Age prediction\n",
    "Accuracy on test set with adam: 0.5521472392638037\n",
    "Accuracy on test set with SGD: 0.5787321063394683\n",
    "\n",
    "\n",
    "Gender prediction\n",
    "MSE on test set with adam:\n",
    "0.0595782220617443\n",
    "MSE on test set with SGD:\n",
    "0.05928570174447635\n",
    "Indicates that the model using SGD optimization algorithm is slightly better than the model using Adam optimization algorithm in prediction, but the difference is small."
   ]
  },
  {
   "cell_type": "markdown",
   "id": "72169e30",
   "metadata": {},
   "source": [
    "# \n",
    "SGD (Stochastic Gradient Descent) and Adam are both commonly used optimization algorithms for training neural networks and other machine learning models. They have some differences in how they update the model parameters. Let's discuss the differences between SGD and Adam:\n",
    "1.Update Rule:\n",
    "SGD: It calculates the gradient on each training sample and updates the model parameters by multiplying the gradient with the learning rate. This means that each sample contributes to parameter updates, which can result in less stable update directions.\n",
    "Adam: Adam combines the concepts of momentum and adaptive learning rate. It uses estimates of the first-order moment (mean gradient) and the second-order moment (gradient variance) to adjust the learning rate. Adam adapts the update speed of different parameters, focusing more on parameters with larger gradient changes, which helps converge faster to the optimal solution.\n",
    "\n",
    "2.Learning Rate Adjustment:\n",
    "SGD: It typically requires manual selection of an appropriate learning rate. If the learning rate is too large or too small, it can lead to training difficulties or slow convergence.\n",
    "Adam: It dynamically adjusts the learning rate by computing the estimates of the first-order moment and the second-order moment of the gradients. Adam can automatically adapt to the changes in different parameters, reducing the need for manual learning rate tuning.\n",
    "\n",
    "3.Memory Requirement:\n",
    "SGD: It only needs to store the gradient of the current sample, resulting in lower memory requirements.\n",
    "Adam: It needs to store the first-order and second-order moment estimates for each parameter, leading to higher memory requirements.\n",
    "\n",
    "4.Convergence:\n",
    "SGD: Due to potentially less stable update directions, SGD may oscillate near the optimal solution and converge relatively slowly.\n",
    "Adam: With adaptive learning rate and momentum adjustments, Adam tends to converge faster to the optimal solution, and it is less sensitive to the choice of initial learning rate.\n",
    "\n",
    "Overall, Adam tends to offer better performance and convergence speed compared to SGD, especially for training on large-scale data and complex models. However, in some cases, SGD can still be a reasonable choice, particularly when memory is limited or finer control over the learning process is desired.\n",
    "\n",
    "It is recommended to experiment and compare the performance of different optimization algorithms for specific problems and datasets to determine the most suitable one. Additionally, adjusting the learning rate, momentum, and other hyperparameters can further improve the model's performance."
   ]
  },
  {
   "cell_type": "markdown",
   "id": "0a5dbb99",
   "metadata": {},
   "source": [
    "## New data prediction"
   ]
  },
  {
   "cell_type": "code",
   "execution_count": 30,
   "id": "0e78d92c",
   "metadata": {},
   "outputs": [],
   "source": [
    "import glob\n",
    "from skimage.transform import resize\n",
    "\n",
    "NewFaceData = []\n",
    "\n",
    "# Suppose you have a new face image new_face, preprocess it\n",
    "for i in glob.glob(\"NewFaceData/*\"):\n",
    "    # load image\n",
    "    new_face = io.imread(i)\n",
    "    \n",
    "    # Convert to grayscale images\n",
    "    new_face_gray = color.rgb2gray(new_face)\n",
    "    \n",
    "    # Resize image\n",
    "    new_face_resized = resize(new_face_gray, (50, 50))\n",
    "    \n",
    "    # Append preprocessed image to NewFaceData list\n",
    "    NewFaceData.append(new_face_resized.flatten())\n",
    "\n",
    "# Convert the new face data into a numpy array\n",
    "new_face_data = np.array(NewFaceData).astype(float)"
   ]
  },
  {
   "cell_type": "markdown",
   "id": "b2d8ab6a",
   "metadata": {},
   "source": [
    "### Use ann to make predictions with SGD"
   ]
  },
  {
   "cell_type": "code",
   "execution_count": 31,
   "id": "0c9e233f",
   "metadata": {},
   "outputs": [
    {
     "name": "stdout",
     "output_type": "stream",
     "text": [
      "Predicted age for image 1 : 36.63792990346283\n",
      "Predicted age for image Integer value 1 : 37\n",
      "Predicted gender for image 1 : 0.5304344614873979\n",
      "Predicted gender for image Integer value 1 : 1\n",
      "Predicted age for image 2 : 26.84142996688832\n",
      "Predicted age for image Integer value 2 : 27\n",
      "Predicted gender for image 2 : 0.5007520703170258\n",
      "Predicted gender for image Integer value 2 : 1\n"
     ]
    }
   ],
   "source": [
    "# Normalize the new face data\n",
    "new_face_data_normalized = (new_face_data - np.mean(new_face_data)) / np.std(new_face_data)\n",
    "\n",
    "# Perform dimensionality reduction using SVD\n",
    "new_face_reduced = np.dot(new_face_data_normalized, PT[:, :k])\n",
    "\n",
    "# Make predictions for the new face images\n",
    "age_predictions, _, _ = SGD_AGE_predict(new_face_reduced, SGD_AGE_W_hidden, SGD_AGE_W_output)\n",
    "gender_predictions, _, _ = SGD_GENDER_predict(new_face_reduced, SGD_GENDER_W_hidden, SGD_GENDER_W_output)\n",
    "\n",
    "#Data restoration\n",
    "age_predictions = np.array(age_predictions).astype(float)*100\n",
    "gender_predictions = (np.array(gender_predictions).astype(float) + 1) / 2\n",
    "\n",
    "#Take the integer value of the result\n",
    "gender_predictions_int = np.round(gender_predictions).astype(int)\n",
    "age_predictions_int = np.round(age_predictions).astype(int)\n",
    "\n",
    "# Print the predicted ages for the new face images\n",
    "for i in range(len(gender_predictions)):\n",
    "    print(\"Predicted age for image\", i+1, \":\", age_predictions[i, 0])\n",
    "    print(\"Predicted age for image Integer value\", i+1, \":\", age_predictions_int[i, 0])\n",
    "    print(\"Predicted gender for image\", i+1, \":\", gender_predictions[i, 0])\n",
    "    print(\"Predicted gender for image Integer value\", i+1, \":\", gender_predictions_int[i, 0])"
   ]
  },
  {
   "cell_type": "markdown",
   "id": "00b56a03",
   "metadata": {},
   "source": [
    "### Use  regression mode to make predictions "
   ]
  },
  {
   "cell_type": "code",
   "execution_count": 32,
   "id": "269b0c84",
   "metadata": {},
   "outputs": [
    {
     "name": "stdout",
     "output_type": "stream",
     "text": [
      "Predicted age for image 1 : 19.121091382274756\n",
      "Predicted age for image Integer value 1 : 19\n",
      "Predicted gender for image 1 : 0.0\n",
      "Predicted gender for image Integer value 1 : 0\n",
      "Predicted age for image 2 : 55.03623996128204\n",
      "Predicted age for image Integer value 2 : 55\n",
      "Predicted gender for image 2 : 0.0\n",
      "Predicted gender for image Integer value 2 : 0\n"
     ]
    }
   ],
   "source": [
    "# Preprocess new data\n",
    "new_data_ones = np.concatenate([new_face_data.reshape(new_face_data.shape[0], -1), np.ones((new_face_data.shape[0], 1))], axis=1)\n",
    "\n",
    "# Age prediction\n",
    "y_age_pred = new_data_ones @ Best_W_age\n",
    "\n",
    "# Gender prediction\n",
    "y_gender_pred = np.sign(new_data_ones @ Best_W_gender)\n",
    "\n",
    "#Data restoration\n",
    "y_age_pred = np.array(y_age_pred).astype(float)*100\n",
    "y_gender_pred = (np.array(y_gender_pred).astype(float) + 1) / 2\n",
    "\n",
    "#Take the integer value of the result\n",
    "y_age_pred_int = np.round(y_age_pred).astype(int)\n",
    "y_gender_pred_int = np.round(y_gender_pred).astype(int)\n",
    "\n",
    "# Print the predicted ages for the new face images\n",
    "for i in range(len(y_gender_pred)):\n",
    "    print(\"Predicted age for image\", i+1, \":\", y_age_pred[i])\n",
    "    print(\"Predicted age for image Integer value\", i+1, \":\", y_age_pred_int[i])\n",
    "    print(\"Predicted gender for image\", i+1, \":\", y_gender_pred[i])\n",
    "    print(\"Predicted gender for image Integer value\", i+1, \":\", y_gender_pred_int[i])"
   ]
  },
  {
   "cell_type": "markdown",
   "id": "2013da93",
   "metadata": {},
   "source": [
    "## Conclusion\n",
    "\n",
    "In this project, we explored four different machine learning techniques for gender and age prediction: eigen decomposition, singular value decomposition, linear regression, and artificial neural networks (ANNs). We used a publicly available dataset of facial images to train and evaluate our models.\n",
    "\n",
    "We find:\n",
    "\n",
    "Using Singular Value Decomposition (SVD) for facial information processing offers the following advantages:\n",
    "\n",
    "1.Dimensionality reduction: SVD can reduce the dimensionality of high-dimensional facial image data to a lower dimension, reducing the number of features. This helps save storage space and computational costs, and can remove redundant information while extracting the most important features.\n",
    "\n",
    "2.Denoising: SVD can remove noise from facial images by retaining higher singular values. Smaller singular values correspond to noise or less important details in the image, while larger singular values correspond to the main information. By keeping the feature vectors associated with larger singular values, denoising effects can be achieved.\n",
    "\n",
    "3.Face recognition: SVD can be employed for face recognition tasks. By performing SVD decomposition on a set of facial images and retaining the relevant feature vectors, it becomes possible to extract the most discriminative facial features for recognition purposes.\n",
    "\n",
    "4.Data compression: SVD can be utilized for compressing facial image data. By representing the image using a reduced number of significant singular values and their corresponding feature vectors, it is possible to achieve compression while maintaining the essential information necessary for facial analysis and recognition.\n",
    "\n",
    "\n",
    "Possible reasons and conclusions for the linear regression model performing better than the ANN (Artificial Neural Network) in facial age and gender prediction:\n",
    "\n",
    "1.Linear relationship in data features: Linear regression models are suitable for data with strong linear relationships. In facial age and gender prediction tasks, there may be some direct linear relationships between certain facial features and age or gender. Therefore, the linear regression model can better capture these relationships and obtain more accurate predictions.\n",
    "\n",
    "2.Data size and model complexity: Linear regression models have lower complexity compared to neural network models. In cases where the data size is small, neural network models may overfit and result in decreased performance. Linear regression models are easier to train and generalize with limited data, thus they may perform better.\n",
    "\n",
    "3.Feature selection and dimensionality: Linear regression models are typically used for a small number of input features and are sensitive to feature selection and importance. In facial age and gender prediction tasks, if appropriate facial features can be selected and properly preprocessed, the linear regression model can more accurately learn the relationships between these features and age/gender. On the other hand, neural network models may rely more on a large number of features and data, making them more challenging to train.\n",
    "\n",
    "In conclusion, possible reasons for the linear regression model outperforming the ANN in facial age and gender prediction include the presence of linear relationships in data features, the impact of data size and model complexity, and the influence of feature selection and dimensionality. However, it is important to note that the choice of the most suitable model depends on the specific dataset and task requirements. In some cases, neural network models may still provide better performance and flexibility. Therefore, in practical applications, model selection and optimization should be based on the specific circumstances."
   ]
  }
 ],
 "metadata": {
  "kernelspec": {
   "display_name": "Python 3 (ipykernel)",
   "language": "python",
   "name": "python3"
  },
  "language_info": {
   "codemirror_mode": {
    "name": "ipython",
    "version": 3
   },
   "file_extension": ".py",
   "mimetype": "text/x-python",
   "name": "python",
   "nbconvert_exporter": "python",
   "pygments_lexer": "ipython3",
   "version": "3.12.2"
  }
 },
 "nbformat": 4,
 "nbformat_minor": 5
}
